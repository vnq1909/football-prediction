{
 "cells": [
  {
   "cell_type": "markdown",
   "id": "fc597753",
   "metadata": {},
   "source": [
    "cleaning"
   ]
  },
  {
   "cell_type": "code",
   "execution_count": 2,
   "id": "35233d92",
   "metadata": {},
   "outputs": [],
   "source": [
    "import pandas as pd\n",
    "from sklearn.experimental import enable_iterative_imputer\n",
    "from sklearn.impute import IterativeImputer\n",
    "from datetime import datetime, date"
   ]
  },
  {
   "cell_type": "code",
   "execution_count": 3,
   "id": "b63790ba",
   "metadata": {},
   "outputs": [],
   "source": [
    "def read_file(path):\n",
    "    df = pd.read_csv(path)\n",
    "\n",
    "    if 'sh.1' in df.columns:\n",
    "        df = df.drop(['sh.1'], axis = 1)\n",
    "\n",
    "    if ('np:g-xg' in df.columns or 'npxg' in df.columns or 'npxg/sh' in df.columns or\n",
    "        'xg' in df.columns or 'xga' in df.columns or 'g-xg' in df.columns):\n",
    "        df_keep = df[['year', 'date', 'time', 'day', 'venue', 'referee','team', 'opponent',\n",
    "                      'formation', 'result', 'poss',  'gf', 'ga',\n",
    "                      'gls', 'sh', 'sot', 'sot%', 'g/sh',\n",
    "                      'g/sot', 'pk', 'pkatt', 'g-xg', 'xg', 'xga',\n",
    "                      'np:g-xg', 'npxg', 'npxg/sh' ]]\n",
    "    else:\n",
    "        df_keep = df[['year', 'date', 'time', 'day', 'venue', 'referee','team', 'opponent',\n",
    "                      'formation', 'result', 'poss',  'gf', 'ga',\n",
    "                      'gls', 'sh', 'sot', 'sot%', 'g/sh',\n",
    "                      'g/sot', 'pk', 'pkatt' ]]\n",
    "\n",
    "    return df_keep"
   ]
  },
  {
   "cell_type": "code",
   "execution_count": 4,
   "id": "b5735d3d",
   "metadata": {},
   "outputs": [],
   "source": [
    "def split_dataset(df):\n",
    "    current_date = date.today()\n",
    "    df['date'] = pd.to_datetime(df['date'])\n",
    "    # Các dòng comment dưới đây đã có sẵn trong code gốc\n",
    "    # df['day'] = df\n",
    "    # df_filtered = df.sort_values(by='date', ascending=False)\n",
    "\n",
    "    df_train = df[df['date'] <= current_date]\n",
    "    df_test = df[df['date'] > current_date]\n",
    "\n",
    "    return df_train, df_test"
   ]
  },
  {
   "cell_type": "code",
   "execution_count": 5,
   "id": "c1dec5e2",
   "metadata": {},
   "outputs": [],
   "source": [
    "def cleaning(df):\n",
    "    df['date'] = pd.to_datetime(df['date'])\n",
    "    df['time'] = df['time'].astype('str')\n",
    "\n",
    "    if df['venue'].isnull().any():\n",
    "        df['venue'] = df['venue'].fillna(df['venue'].value_counts().idxmax())\n",
    "\n",
    "    if df['opponent'].isnull().any():\n",
    "        df['opponent'] = df['opponent'].fillna(df['opponent'].value_counts().idxmax())\n",
    "\n",
    "    if df['formation'].isnull().all():\n",
    "        df = df.drop(['formation'], axis = 1)\n",
    "    else:\n",
    "        df['formation'] = df['formation'].fillna(df['formation'].value_counts().idxmax())\n",
    "\n",
    "    if df['result'].isnull().any():\n",
    "        df['result'] = df['result'].fillna(df['result'].value_counts().idxmax())\n",
    "\n",
    "    if df['poss'].isnull().all():\n",
    "        df = df.drop(['poss'], axis = 1)\n",
    "    else:\n",
    "        df['poss'] = df['poss'].fillna(df['poss'].mean())\n",
    "\n",
    "    if df['gf'].isnull().any() & df['ga'].isnull().any(): \n",
    "        df['gf'] = pd.to_numeric(df['gf'], errors='coerce')\n",
    "        df['ga'] = pd.to_numeric(df['ga'], errors='coerce')\n",
    "        df['gf'] = df['gf'].fillna(df['gf'].mean())\n",
    "        df['ga'] = df['ga'].fillna(df['ga'].mean())\n",
    "\n",
    "    df['referee'] = df['referee'].fillna(df['referee'].value_counts().idxmax())\n",
    "    df['gls'] = df['gls'].fillna(df['gls'].mean())\n",
    "    df['sh'] = df['sh'].fillna(df['sh'].mean())\n",
    "    df['sot'] = df['sot'].fillna(df['sot'].mean())\n",
    "    df['sot%'] = df['sot%'].fillna(df['sot%'].mean())\n",
    "    df['g/sh'] = df['g/sh'].fillna(df['g/sh'].mean())\n",
    "    df['g/sot'] = df['g/sot'].fillna(df['g/sot'].mean())\n",
    "    df['pk'] = df['pk'].fillna(df['pk'].mean())\n",
    "    df['pkatt'] = df['pkatt'].fillna(df['pkatt'].mean())\n",
    "\n",
    "\n",
    "    return df"
   ]
  },
  {
   "cell_type": "code",
   "execution_count": 6,
   "id": "eef87dd5",
   "metadata": {},
   "outputs": [],
   "source": [
    "def export_df(path, df):\n",
    "    filename = path.split('/')[3]\n",
    "    export = df.to_csv('../Datasets/Cleaned Datasets/' + filename)\n",
    "    print('CSV exported >', filename)\n",
    "    return 'CSV exported'\n",
    "\n",
    "def export_df_test(path,df):\n",
    "    filename = path.split('/')[3]\n",
    "    export = df.to_csv('../Datasets/Cleaned Datasets/Testing-' + filename)\n",
    "    print(f'CSV for testing exported ---> Testing-{filename}')\n",
    "\n",
    "    return 'CSV Testing exported'"
   ]
  },
  {
   "cell_type": "code",
   "execution_count": 7,
   "id": "37ad32bf",
   "metadata": {},
   "outputs": [
    {
     "name": "stdout",
     "output_type": "stream",
     "text": [
      "\n",
      "Processing ../Datasets/Scrapped Datasets/Serie_A_Stats_Italy.csv...\n",
      "CSV exported > Serie_A_Stats_Italy.csv\n",
      "\n",
      "Processing ../Datasets/Scrapped Datasets/La_Liga_Stats.csv...\n",
      "CSV exported > La_Liga_Stats.csv\n"
     ]
    }
   ],
   "source": [
    "def process():\n",
    "\n",
    "    path_italyA = '../Datasets/Scrapped Datasets/Serie_A_Stats_Italy.csv'\n",
    "    path_spainA = '../Datasets/Scrapped Datasets/La_Liga_Stats.csv'\n",
    "\n",
    "    paths = [path_italyA, path_spainA]\n",
    "\n",
    "    for path in paths:\n",
    "        print(f\"\\nProcessing {path}...\")\n",
    "        df = read_file(path)\n",
    "        # df, df_test = split_dataset(df) \n",
    "        df = cleaning(df)\n",
    "        # df = label_encoding(df) \n",
    "        df = export_df(path,df)\n",
    "\n",
    "        #df_test = label_encoding(df_test)\n",
    "        #df_test = export_df_test(path, df_test) \n",
    "\n",
    "if __name__ == \"__main__\":\n",
    "    process()"
   ]
  }
 ],
 "metadata": {
  "kernelspec": {
   "display_name": "base",
   "language": "python",
   "name": "python3"
  },
  "language_info": {
   "codemirror_mode": {
    "name": "ipython",
    "version": 3
   },
   "file_extension": ".py",
   "mimetype": "text/x-python",
   "name": "python",
   "nbconvert_exporter": "python",
   "pygments_lexer": "ipython3",
   "version": "3.9.19"
  }
 },
 "nbformat": 4,
 "nbformat_minor": 5
}
