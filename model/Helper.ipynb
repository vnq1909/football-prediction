{
 "cells": [
  {
   "cell_type": "code",
   "execution_count": 1,
   "id": "f9f6bf23",
   "metadata": {},
   "outputs": [],
   "source": [
    "def mapping():\n",
    "\n",
    "    map_values_italy = {\n",
    "        'Internazionale' : 'Inter'\n",
    "    }\n",
    "\n",
    "    map_values_spain = {\n",
    "        \"Atlético Madrid\": \"Atletico Madrid\",\n",
    "        \"Athletic Club\": \"Athletic Club\",\n",
    "        \"Betis\": \"Real Betis\",\n",
    "        \"Málaga\": \"Malaga\",\n",
    "        \"Alavés\": \"Alaves\",\n",
    "        \"Eibar\": \"Eibar\",\n",
    "        \"La Coruña\": \"Deportivo La Coruna\",\n",
    "        \"Leganés\": \"Leganes\",\n",
    "        \"Las Palmas\": \"Las Palmas\",\n",
    "        \"Cádiz\": \"Cadiz\",\n",
    "        \"Almería\": \"Almeria\",\n",
    "        \"Sporting Gijón\": \"Sporting Gijon\",\n",
    "        \"Córdoba\": \"Cordoba\",\n",
    "        \"Racing Sant\": \"Racing Santander\"\n",
    "    }\n",
    "\n",
    "    \n",
    "    mapped_values = [map_values_italy, map_values_spain]\n",
    "    \n",
    "    return mapped_values"
   ]
  }
 ],
 "metadata": {
  "kernelspec": {
   "display_name": "base",
   "language": "python",
   "name": "python3"
  },
  "language_info": {
   "codemirror_mode": {
    "name": "ipython",
    "version": 3
   },
   "file_extension": ".py",
   "mimetype": "text/x-python",
   "name": "python",
   "nbconvert_exporter": "python",
   "pygments_lexer": "ipython3",
   "version": "3.9.19"
  }
 },
 "nbformat": 4,
 "nbformat_minor": 5
}
