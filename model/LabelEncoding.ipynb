{
 "cells": [
  {
   "cell_type": "code",
   "execution_count": 1,
   "id": "de717d33",
   "metadata": {},
   "outputs": [],
   "source": [
    "import pandas as pd\n",
    "from sklearn.preprocessing import LabelEncoder\n",
    "import json"
   ]
  },
  {
   "cell_type": "code",
   "execution_count": 2,
   "id": "2df01b47",
   "metadata": {},
   "outputs": [],
   "source": [
    "\n",
    "def label_encoding(df):\n",
    "\n",
    "    # mapping_dict = {'D':0, 'W': 1, 'L': 2}\n",
    "    # df['result'] = df['result'].map(mapping_dict)\n",
    "\n",
    "    label_encoder = LabelEncoder()\n",
    "    \n",
    "    columns_to_encode = [ 'result', 'opponent', 'venue', 'formation', 'team', 'referee']\n",
    "\n",
    "    for column in columns_to_encode:\n",
    "        if column in df.columns:\n",
    "            df[column] =  label_encoder.fit_transform(df[column])\n",
    "\n",
    "        existing_data = {}\n",
    "\n",
    "        try:\n",
    "            with open('../map.json', 'r', encoding='utf-8') as json_file:\n",
    "                if json_file.read().strip():\n",
    "                    json_file.seek(0) \n",
    "                    existing_data = json.load(json_file)\n",
    "        except FileNotFoundError:\n",
    "            pass\n",
    "        \n",
    "        mapping = dict(zip(label_encoder.classes_, label_encoder.transform(label_encoder.classes_)))\n",
    "        mapping = {category: int(encoded_value.item()) for category, encoded_value in mapping.items()}\n",
    "        existing_data.update(mapping)\n",
    "\n",
    "        with open('../map.json', 'w',  encoding='utf-8') as json_file:\n",
    "            json.dump(existing_data, json_file)\n",
    "\n",
    "    return df"
   ]
  }
 ],
 "metadata": {
  "kernelspec": {
   "display_name": "base",
   "language": "python",
   "name": "python3"
  },
  "language_info": {
   "codemirror_mode": {
    "name": "ipython",
    "version": 3
   },
   "file_extension": ".py",
   "mimetype": "text/x-python",
   "name": "python",
   "nbconvert_exporter": "python",
   "pygments_lexer": "ipython3",
   "version": "3.9.19"
  }
 },
 "nbformat": 4,
 "nbformat_minor": 5
}
